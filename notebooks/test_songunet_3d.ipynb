{
 "cells": [
  {
   "cell_type": "code",
   "execution_count": 9,
   "metadata": {},
   "outputs": [
    {
     "name": "stdout",
     "output_type": "stream",
     "text": [
      "The autoreload extension is already loaded. To reload it, use:\n",
      "  %reload_ext autoreload\n"
     ]
    }
   ],
   "source": [
    "%load_ext autoreload\n",
    "%autoreload 2\n",
    "\n",
    "import sys\n",
    "sys.path.append('../')\n",
    "\n",
    "import torch\n",
    "\n",
    "from spatial_cytokine.training.networks import Conv3d\n",
    "from training.networks import Conv2d"
   ]
  },
  {
   "cell_type": "code",
   "execution_count": 10,
   "metadata": {},
   "outputs": [
    {
     "data": {
      "text/plain": [
       "torch.Size([4, 1, 64, 32])"
      ]
     },
     "execution_count": 10,
     "metadata": {},
     "output_type": "execute_result"
    }
   ],
   "source": [
    "conv2d = Conv2d(\n",
    "    in_channels=1,\n",
    "    out_channels=1,\n",
    "    kernel=3,\n",
    "    bias=True,\n",
    "    up=False,\n",
    "    down=True,\n",
    "    resample_filter=[1, 1],\n",
    "    fused_resample=False,\n",
    "    init_mode=\"kaiming_normal\",\n",
    "    init_weight=1,\n",
    "    init_bias=0,\n",
    ")\n",
    "\n",
    "x = torch.randn((4, 1, 128, 64))\n",
    "y = conv2d(x)\n",
    "y.shape"
   ]
  },
  {
   "cell_type": "code",
   "execution_count": 11,
   "metadata": {},
   "outputs": [
    {
     "data": {
      "text/plain": [
       "torch.Size([4, 1, 128, 64, 32])"
      ]
     },
     "execution_count": 11,
     "metadata": {},
     "output_type": "execute_result"
    }
   ],
   "source": [
    "conv3d = Conv3d(\n",
    "    in_channels=1,\n",
    "    out_channels=1,\n",
    "    kernel=3,\n",
    "    bias=True,\n",
    "    up=False,\n",
    "    down=True,\n",
    "    resample_filter=[3, 3],\n",
    "    fused_resample=False,\n",
    "    init_mode=\"kaiming_normal\",\n",
    "    init_weight=1,\n",
    "    init_bias=0,\n",
    ")\n",
    "\n",
    "x = torch.randn((4, 1, 256, 128, 64))\n",
    "\n",
    "y = conv3d(x)\n",
    "y.shape"
   ]
  },
  {
   "cell_type": "code",
   "execution_count": null,
   "metadata": {},
   "outputs": [],
   "source": []
  }
 ],
 "metadata": {
  "kernelspec": {
   "display_name": "DiffusionPDE",
   "language": "python",
   "name": "python3"
  },
  "language_info": {
   "codemirror_mode": {
    "name": "ipython",
    "version": 3
   },
   "file_extension": ".py",
   "mimetype": "text/x-python",
   "name": "python",
   "nbconvert_exporter": "python",
   "pygments_lexer": "ipython3",
   "version": "3.9.21"
  }
 },
 "nbformat": 4,
 "nbformat_minor": 2
}
